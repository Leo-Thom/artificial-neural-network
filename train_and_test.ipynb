{
 "cells": [
  {
   "cell_type": "code",
   "execution_count": null,
   "metadata": {},
   "outputs": [],
   "source": [
    "# Python-Notebook zum Trainieren und Testen eines künstlichen neuronalen Netzes\n",
    "# der Code führt eine Klassifikation der MNIST-Ziffern mittels eines gegebenen neuronalen Netzes durch\n",
    "# ursprünglicher Code von Tariq Rashid, abgeändert von Leo Thom\n",
    "# aktualisiert am 22. August 2019"
   ]
  },
  {
   "cell_type": "code",
   "execution_count": null,
   "metadata": {},
   "outputs": [],
   "source": [
    "# Bibliothek zur Nutzung von Arrays\n",
    "import numpy as np\n",
    "# Bibliothek zur grafischen Darstellung von Arrays\n",
    "import matplotlib.pyplot as plt\n",
    "# stelle sicher, dass sich die Grafiken im Notebook befinden, nicht in einem externen Fenster\n",
    "%matplotlib inline"
   ]
  },
  {
   "cell_type": "code",
   "execution_count": null,
   "metadata": {},
   "outputs": [],
   "source": [
    "# an dieser Stelle muss der Code zur Erzeugung des gewünschten neuronalen Netzes eingefügt werden"
   ]
  },
  {
   "cell_type": "code",
   "execution_count": null,
   "metadata": {},
   "outputs": [],
   "source": [
    "# lade die MNIST-Trainingsdaten aus der CSV-Datei in eine Liste\n",
    "training_data_file = open(\"mnist_train.csv\", 'r')\n",
    "training_data_list = training_data_file.readlines()\n",
    "training_data_file.close()"
   ]
  },
  {
   "cell_type": "code",
   "execution_count": null,
   "metadata": {},
   "outputs": [],
   "source": [
    "# lade die MNIST-Testdaten aus der CSV-Datei in eine Liste\n",
    "test_data_file = open(\"mnist_test.csv\", 'r')\n",
    "test_data_list = test_data_file.readlines()\n",
    "test_data_file.close()"
   ]
  },
  {
   "cell_type": "code",
   "execution_count": null,
   "metadata": {},
   "outputs": [],
   "source": [
    "# Funktion zum Testen des neuronalen Netzes\n",
    "def test(test_data):\n",
    "    \n",
    "    # Dokumentation, wie gut das Netz die Ziffern klassifiziert; anfangs leere Liste\n",
    "    scorecard = []\n",
    "    \n",
    "    # gehe durch alle Einträge der zu testenden Daten\n",
    "    for record in test_data:\n",
    "        # trenne den Eintrag anhand der Kommata\n",
    "        all_values = record.split(',')\n",
    "        # die korrekte Antwort ist die erste Zahl des Eintrags\n",
    "        correct_label = int(all_values[0])\n",
    "        # skaliere und verschiebe die Eingaben in das Intervall [0.01,1.00]\n",
    "        inputs = (np.asfarray(all_values[1:]) / 255.0 * 0.99) + 0.01\n",
    "        # befrage das neuronale Netz\n",
    "        outputs = n.query(inputs)\n",
    "        # der Index des höchten Ausgabewertes bestimmt die Klasse\n",
    "        label = np.argmax(outputs)\n",
    "        # dokumentiere, wie gut das neuronale Netz abschneidet\n",
    "        if (label == correct_label):\n",
    "            # die Antwort des neuronalen Netzes gleicht der korrekten Antwort, füge der Liste scorecard eine 1 hinzu\n",
    "            scorecard.append(1)\n",
    "        else:\n",
    "            # die Antwort des neuronalen Netzes gleicht nicht der korrekten Antwort, füge der Liste scorecard eine 0 hinzu\n",
    "            scorecard.append(0)\n",
    "            pass\n",
    "        \n",
    "        pass\n",
    "    \n",
    "    # konvertiere die Liste scorecard in einen Array\n",
    "    scorecard_array = np.asarray(scorecard)\n",
    "    # berechne die Genauigkeit des neuronalen Netzes, das arithmetische Mittel der Elemente des Arrays scorecard_array\n",
    "    accuracy = scorecard_array.sum() / scorecard_array.size\n",
    "    \n",
    "    return accuracy"
   ]
  },
  {
   "cell_type": "code",
   "execution_count": null,
   "metadata": {},
   "outputs": [],
   "source": [
    "# trainiere das neuronale Netz\n",
    "\n",
    "# die Anzahl Epochen gibt an, wie oft die Trainingsdaten zum Trainieren genutzt werden\n",
    "epochs = 10\n",
    "\n",
    "for e in range(epochs):\n",
    "    # gehe durch alle Einträge der Trainingsdaten\n",
    "    for record in training_data_list:\n",
    "        # trenne den Eintrag anhand der Kommata\n",
    "        all_values = record.split(',')\n",
    "        # skaliere und verschiebe die Eingaben in das Intervall [0.01,1.00]\n",
    "        inputs = (np.asfarray(all_values[1:]) / 255.0 * 0.99) + 0.01\n",
    "        # erzeuge die perfekten Ausgaben\n",
    "        # jeder Ausgabeknoten hat den Wert 0.01 ausser der Knoten der richtigen Klasse, dessen Wert 0.99 beträgt\n",
    "        targets = np.zeros(output_nodes) + 0.01\n",
    "        # die korrekte Klasse ist die erste Zahl des Eintrags\n",
    "        targets[int(all_values[0])] = 0.99\n",
    "        # das eigentliche Trainieren findet statt\n",
    "        n.train(inputs, targets)\n",
    "        pass\n",
    "    \n",
    "    # teste das neuronale Netz auf den Testdaten und gebe die Genauigkeit aus\n",
    "    print(\"nach \", e+1, \" Epochen: Genauigkeit (Testdaten) = \", test(test_data_list))\n",
    "    # teste das neuronale Netz auf den Trainingsdaten und gebe die Genauigkeit aus\n",
    "    print(\"nach \", e+1, \" Epochen: Genauigkeit (Trainingsdaten) = \", test(training_data_list))\n",
    "    \n",
    "    pass"
   ]
  }
 ],
 "metadata": {
  "kernelspec": {
   "display_name": "Python 3",
   "language": "python",
   "name": "python3"
  },
  "language_info": {
   "codemirror_mode": {
    "name": "ipython",
    "version": 3
   },
   "file_extension": ".py",
   "mimetype": "text/x-python",
   "name": "python",
   "nbconvert_exporter": "python",
   "pygments_lexer": "ipython3",
   "version": "3.7.0"
  }
 },
 "nbformat": 4,
 "nbformat_minor": 2
}
